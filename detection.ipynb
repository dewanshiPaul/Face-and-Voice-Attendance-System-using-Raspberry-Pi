{
 "cells": [
  {
   "cell_type": "code",
   "execution_count": 1,
   "metadata": {},
   "outputs": [],
   "source": [
    "#imports\n",
    "import os\n",
    "import face_recognition\n",
    "import cv2\n",
    "import numpy as np\n",
    "from PIL import Image"
   ]
  },
  {
   "cell_type": "code",
   "execution_count": 2,
   "metadata": {},
   "outputs": [],
   "source": [
    "#inputs\n",
    "name = input(\"Enter name: \")"
   ]
  },
  {
   "cell_type": "code",
   "execution_count": 3,
   "metadata": {},
   "outputs": [],
   "source": [
    "#paths\n",
    "path_data = 'C:/Users/thats/Desktop/Semester 5/Embedded System Design/project/holders/'"
   ]
  },
  {
   "cell_type": "code",
   "execution_count": 4,
   "metadata": {},
   "outputs": [],
   "source": [
    "#check if user exists\n",
    "isExists = os.path.exists(path_data+name)"
   ]
  },
  {
   "cell_type": "code",
   "execution_count": 5,
   "metadata": {},
   "outputs": [
    {
     "name": "stdout",
     "output_type": "stream",
     "text": [
      "[]\n",
      "[]\n",
      "[(134, 491, 455, 170)]\n",
      "[True, True, True, True, True, True, True, True, True, True, True]\n",
      "[(112, 438, 379, 171)]\n",
      "[True, True, True, True, True, True, True, True, True, True, True]\n",
      "[(142, 468, 409, 200)]\n",
      "[True, True, True, True, True, True, True, True, True, True, True]\n",
      "[]\n"
     ]
    }
   ],
   "source": [
    "if isExists:\n",
    "    cap = cv2.VideoCapture(0)\n",
    "    while(True):\n",
    "        ret, frame = cap.read()\n",
    "        encodings = []\n",
    "        os.chdir(path_data+name)\n",
    "        for file in os.listdir(path_data+name):\n",
    "            if file.endswith('.jpg'):\n",
    "                    known_image = face_recognition.load_image_file(file)\n",
    "                    known_image_encoding = face_recognition.face_encodings(known_image)[0]\n",
    "                    encodings.append(known_image_encoding)\n",
    "        face_location = face_recognition.face_locations(frame)\n",
    "        print(face_location)\n",
    "        if len(face_location) != 0:\n",
    "            unknown_image_encoding = face_recognition.face_encodings(frame)[0]\n",
    "            result = face_recognition.compare_faces(encodings, unknown_image_encoding)\n",
    "            print(result)\n",
    "            result = result[0]\n",
    "            x1,y1,x2,y2 = face_location[0]\n",
    "            cv2.rectangle(frame,(y1,x1),(y2,x2),(0,0,255),3)\n",
    "            if result == True:\n",
    "                cv2.putText(frame,'face matched',(50,50),cv2.FONT_HERSHEY_COMPLEX,1,(255,0,0),2,cv2.LINE_AA)\n",
    "            else:\n",
    "                cv2.putText(frame,'face not matched',(50,50),cv2.FONT_HERSHEY_COMPLEX,1,(255,0,0),2,cv2.LINE_AA)\n",
    "        else:\n",
    "            cv2.putText(frame,'face not found',(50,50),cv2.FONT_HERSHEY_COMPLEX,1,(255,0,0),2,cv2.LINE_AA)\n",
    "        cv2.imshow('Detection',frame)\n",
    "        key = cv2.waitKey(1)\n",
    "        if key == 27:\n",
    "            cv2.destroyAllWindows()\n",
    "            cap.release()\n",
    "            break\n",
    "else:\n",
    "    print('User does not exists!!. Go back to create your account.')"
   ]
  },
  {
   "cell_type": "code",
   "execution_count": null,
   "metadata": {},
   "outputs": [],
   "source": []
  }
 ],
 "metadata": {
  "kernelspec": {
   "display_name": "Python 3.10.1 64-bit",
   "language": "python",
   "name": "python3"
  },
  "language_info": {
   "codemirror_mode": {
    "name": "ipython",
    "version": 3
   },
   "file_extension": ".py",
   "mimetype": "text/x-python",
   "name": "python",
   "nbconvert_exporter": "python",
   "pygments_lexer": "ipython3",
   "version": "3.10.1"
  },
  "orig_nbformat": 4,
  "vscode": {
   "interpreter": {
    "hash": "369f2c481f4da34e4445cda3fffd2e751bd1c4d706f27375911949ba6bb62e1c"
   }
  }
 },
 "nbformat": 4,
 "nbformat_minor": 2
}
