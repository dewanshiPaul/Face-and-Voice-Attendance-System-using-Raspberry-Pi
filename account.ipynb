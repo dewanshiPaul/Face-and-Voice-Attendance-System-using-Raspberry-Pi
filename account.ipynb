{
 "cells": [
  {
   "cell_type": "code",
   "execution_count": 1,
   "metadata": {},
   "outputs": [],
   "source": [
    "#imports\n",
    "import cv2\n",
    "import numpy as np\n",
    "import os\n",
    "from PIL import Image\n",
    "import face_recognition"
   ]
  },
  {
   "cell_type": "code",
   "execution_count": 2,
   "metadata": {},
   "outputs": [],
   "source": [
    "#paths\n",
    "path_data = 'C:/Users/thats/Desktop/Semester 5/Embedded System Design/project/holders/'"
   ]
  },
  {
   "cell_type": "code",
   "execution_count": 3,
   "metadata": {},
   "outputs": [],
   "source": [
    "def createDirectory(name):\n",
    "    try:\n",
    "        os.mkdir(path_data+name)\n",
    "        print(\"Successfully directory created!!\")\n",
    "    except OSError as error:\n",
    "        print(\"Given user already exists!!!\")\n",
    "def storeUserFace(frame,name,cnt):\n",
    "    try:\n",
    "        os.chdir(path_data+name)\n",
    "        cv2.imwrite('image_'+str(cnt)+'.jpg',frame)\n",
    "        return True\n",
    "    except OSError as error:\n",
    "        print(error)\n",
    "        return False"
   ]
  },
  {
   "cell_type": "code",
   "execution_count": 6,
   "metadata": {},
   "outputs": [
    {
     "name": "stdout",
     "output_type": "stream",
     "text": [
      "Successfully directory created!!\n"
     ]
    }
   ],
   "source": [
    "#input\n",
    "name = input(\"Enter name: \")\n",
    "#make directory\n",
    "createDirectory(name)"
   ]
  },
  {
   "cell_type": "code",
   "execution_count": 7,
   "metadata": {},
   "outputs": [
    {
     "name": "stdout",
     "output_type": "stream",
     "text": [
      "True\n",
      "True\n",
      "True\n",
      "True\n",
      "True\n",
      "True\n",
      "True\n",
      "True\n",
      "True\n",
      "True\n",
      "True\n"
     ]
    }
   ],
   "source": [
    "#camera initialization\n",
    "vid = cv2.VideoCapture(1)\n",
    "cnt = 0\n",
    "while True:\n",
    "    ret,frame = vid.read()\n",
    "    face_location = face_recognition.face_locations(frame)\n",
    "    if(len(face_location) == 0):\n",
    "        cv2.putText(frame,'No face found',(50,50),cv2.FONT_HERSHEY_COMPLEX,1,(255,0,0),2,cv2.LINE_AA)\n",
    "    else:\n",
    "        fileStore = storeUserFace(frame,name,cnt)\n",
    "        print(fileStore)\n",
    "        if(cnt == 10):\n",
    "            cv2.destroyAllWindows()\n",
    "            vid.release()\n",
    "            break\n",
    "        cnt += 1\n",
    "        x1,y1,x2,y2 = face_location[0]\n",
    "        cv2.rectangle(frame,(y1,x1),(y2,x2),(0,0,255),3)\n",
    "        cv2.putText(frame,'face found',(50,50),cv2.FONT_HERSHEY_COMPLEX,1,(255,0,0),2,cv2.LINE_AA)\n",
    "    cv2.imshow('frame',frame)\n",
    "    key = cv2.waitKey(10)\n",
    "\n",
    "    if key == 27:\n",
    "        print('esc is pressed clossing all windows')\n",
    "        cv2.destroyAllWindows()\n",
    "        vid.release()\n",
    "        break"
   ]
  }
 ],
 "metadata": {
  "kernelspec": {
   "display_name": "Python 3.10.1 64-bit",
   "language": "python",
   "name": "python3"
  },
  "language_info": {
   "codemirror_mode": {
    "name": "ipython",
    "version": 3
   },
   "file_extension": ".py",
   "mimetype": "text/x-python",
   "name": "python",
   "nbconvert_exporter": "python",
   "pygments_lexer": "ipython3",
   "version": "3.10.1"
  },
  "orig_nbformat": 4,
  "vscode": {
   "interpreter": {
    "hash": "369f2c481f4da34e4445cda3fffd2e751bd1c4d706f27375911949ba6bb62e1c"
   }
  }
 },
 "nbformat": 4,
 "nbformat_minor": 2
}
